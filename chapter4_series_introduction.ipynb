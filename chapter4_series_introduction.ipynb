{
 "cells": [
  {
   "cell_type": "markdown",
   "id": "67373c02-6446-449b-9993-a4fb826c41f0",
   "metadata": {},
   "source": [
    "# Series Introduction"
   ]
  },
  {
   "cell_type": "code",
   "execution_count": 15,
   "id": "ca4fc5d7-450c-4786-a120-26b15c99feef",
   "metadata": {},
   "outputs": [],
   "source": [
    "# initialize series\n",
    "index_list = [9, 10, 22, 36]\n",
    "data_list = [145, 142, 38, 13]\n",
    "series = {'index': index_list,\n",
    "          'data': data_list, \n",
    "          'name': 'songs'}"
   ]
  },
  {
   "cell_type": "code",
   "execution_count": 25,
   "id": "bf46adef-d133-4722-80b2-93b65cb3707e",
   "metadata": {},
   "outputs": [
    {
     "data": {
      "text/plain": [
       "0"
      ]
     },
     "execution_count": 25,
     "metadata": {},
     "output_type": "execute_result"
    }
   ],
   "source": [
    "#get value given idx 9\n",
    "series['index'].index(9)"
   ]
  },
  {
   "cell_type": "code",
   "execution_count": 19,
   "id": "1db6f950-cb48-4881-bf61-719e9a6685e6",
   "metadata": {},
   "outputs": [
    {
     "data": {
      "text/plain": [
       "145"
      ]
     },
     "execution_count": 19,
     "metadata": {},
     "output_type": "execute_result"
    }
   ],
   "source": [
    "series['data'][0]"
   ]
  },
  {
   "cell_type": "code",
   "execution_count": 22,
   "id": "d85c4df7-ccac-4467-b3df-dacc10ee5ffc",
   "metadata": {},
   "outputs": [],
   "source": [
    "#we could do what 2 lines above do by\n",
    "def get_given_idx(series, idx):\n",
    "    idx_value = series['index'].index(idx)\n",
    "    \n",
    "    return series['data'][idx_value]"
   ]
  },
  {
   "cell_type": "code",
   "execution_count": 23,
   "id": "8a48f632-e62d-41ef-a859-bcc0e32ebe3d",
   "metadata": {},
   "outputs": [
    {
     "data": {
      "text/plain": [
       "145"
      ]
     },
     "execution_count": 23,
     "metadata": {},
     "output_type": "execute_result"
    }
   ],
   "source": [
    "get_given_idx(series, 9)"
   ]
  },
  {
   "cell_type": "markdown",
   "id": "f3c99ef7-a0ea-40b7-9380-580cf734676e",
   "metadata": {},
   "source": [
    "***"
   ]
  },
  {
   "cell_type": "markdown",
   "id": "47574d21-cd13-4dcd-a8af-4ffd5ddfd43f",
   "metadata": {},
   "source": [
    "### Index abstraction"
   ]
  },
  {
   "cell_type": "raw",
   "id": "918c4c32-c804-49b0-8466-09194d47e669",
   "metadata": {},
   "source": [
    "This double abstraction of the index seems unnecessary at ﬁrst glance—a list already has integer\n",
    "indexes. But there is a trick up pandas’ sleeves. \n",
    "\n",
    "By allowing non-integer values, the data structure\n",
    "supports other index types such as strings, dates, as well as arbitrarily ordered indices, or even\n",
    "duplicate index values."
   ]
  },
  {
   "cell_type": "code",
   "execution_count": 24,
   "id": "c7bbb9f2-87ef-401d-b602-c6c5f817567a",
   "metadata": {},
   "outputs": [],
   "source": [
    "#here our index will use string instead number like example above\n",
    "index_list = ['Paul', 'John', 'George', 'Ringo']\n",
    "data_list = [145, 142, 38, 13]\n",
    "songs = {'index': index_list, \n",
    "         'data': data_list, \n",
    "         'name': 'counts'}"
   ]
  },
  {
   "cell_type": "code",
   "execution_count": 27,
   "id": "9d230995-d53e-4b75-baa7-671e669df487",
   "metadata": {},
   "outputs": [
    {
     "data": {
      "text/plain": [
       "13"
      ]
     },
     "execution_count": 27,
     "metadata": {},
     "output_type": "execute_result"
    }
   ],
   "source": [
    "get_given_idx(songs, 'Ringo')"
   ]
  },
  {
   "cell_type": "code",
   "execution_count": 38,
   "id": "0d6dc7ab-ab14-4815-af8f-02461a6f6455",
   "metadata": {},
   "outputs": [
    {
     "data": {
      "text/plain": [
       "13"
      ]
     },
     "execution_count": 38,
     "metadata": {},
     "output_type": "execute_result"
    }
   ],
   "source": [
    "#function above is same with this\n",
    "songs['data'][songs['index'].index('Ringo')]"
   ]
  },
  {
   "cell_type": "markdown",
   "id": "4dfdf86f-374b-4eb6-a0f2-672ed7bd5ef7",
   "metadata": {},
   "source": [
    "***"
   ]
  },
  {
   "cell_type": "markdown",
   "id": "48446c70-bcc9-476b-9569-ff44af2a11b9",
   "metadata": {},
   "source": [
    "### Pandas Series"
   ]
  },
  {
   "cell_type": "code",
   "execution_count": 44,
   "id": "ded785f6-750b-45b0-ad81-83324808c078",
   "metadata": {},
   "outputs": [],
   "source": [
    "import pandas as pd\n",
    "songs3 = pd.Series ([145 , 142 , 38 , 13] ,\n",
    "                    name =' counts ' ,\n",
    "                    index =[ ' Paul ', ' John ', ' George ', ' Ringo '])"
   ]
  },
  {
   "cell_type": "code",
   "execution_count": 45,
   "id": "608bac6f-8c8a-4195-9f46-1acc7d3b31ac",
   "metadata": {},
   "outputs": [
    {
     "data": {
      "text/plain": [
       " Paul       145\n",
       " John       142\n",
       " George      38\n",
       " Ringo       13\n",
       "Name:  counts , dtype: int64"
      ]
     },
     "execution_count": 45,
     "metadata": {},
     "output_type": "execute_result"
    }
   ],
   "source": [
    "songs3"
   ]
  },
  {
   "cell_type": "code",
   "execution_count": 46,
   "id": "7ef6ccff-953d-41f8-83fa-bdb283358954",
   "metadata": {},
   "outputs": [
    {
     "data": {
      "text/plain": [
       "84.5"
      ]
     },
     "execution_count": 46,
     "metadata": {},
     "output_type": "execute_result"
    }
   ],
   "source": [
    "songs3.mean()"
   ]
  },
  {
   "cell_type": "code",
   "execution_count": 58,
   "id": "44299b02-6ff0-4cd5-b3bd-a70c75b48df3",
   "metadata": {},
   "outputs": [
    {
     "data": {
      "text/plain": [
       " Paul     145\n",
       " John     142\n",
       "Name:  counts , dtype: int64"
      ]
     },
     "execution_count": 58,
     "metadata": {},
     "output_type": "execute_result"
    }
   ],
   "source": [
    "#conditional selection\n",
    "songs3[songs3 > songs3.median()]"
   ]
  },
  {
   "cell_type": "code",
   "execution_count": 59,
   "id": "6385520c-8417-4e97-817a-1f2b1c604736",
   "metadata": {},
   "outputs": [
    {
     "data": {
      "text/plain": [
       "Index([' Paul ', ' John '], dtype='object')"
      ]
     },
     "execution_count": 59,
     "metadata": {},
     "output_type": "execute_result"
    }
   ],
   "source": [
    "songs3[songs3 > songs3.median()].index"
   ]
  },
  {
   "cell_type": "code",
   "execution_count": null,
   "id": "292fbac0-914e-4655-a7e2-4b2629bd8136",
   "metadata": {},
   "outputs": [],
   "source": []
  }
 ],
 "metadata": {
  "kernelspec": {
   "display_name": "Python 3 (ipykernel)",
   "language": "python",
   "name": "python3"
  },
  "language_info": {
   "codemirror_mode": {
    "name": "ipython",
    "version": 3
   },
   "file_extension": ".py",
   "mimetype": "text/x-python",
   "name": "python",
   "nbconvert_exporter": "python",
   "pygments_lexer": "ipython3",
   "version": "3.9.7"
  }
 },
 "nbformat": 4,
 "nbformat_minor": 5
}
