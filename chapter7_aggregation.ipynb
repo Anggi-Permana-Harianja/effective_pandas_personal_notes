{
 "cells": [
  {
   "cell_type": "markdown",
   "id": "e51302ac-4fc3-4156-ac15-3a63f7ba1084",
   "metadata": {},
   "source": [
    "### Aggregate methods"
   ]
  },
  {
   "cell_type": "code",
   "execution_count": 1,
   "id": "84018bc5-d18f-4687-8ddd-23867abcc213",
   "metadata": {},
   "outputs": [
    {
     "name": "stderr",
     "output_type": "stream",
     "text": [
      "/home/anggi/anaconda3/lib/python3.9/site-packages/IPython/core/interactiveshell.py:3444: DtypeWarning: Columns (68,70,71,72,73,74,76,79) have mixed types.Specify dtype option on import or set low_memory=False.\n",
      "  exec(code_obj, self.user_global_ns, self.user_ns)\n"
     ]
    }
   ],
   "source": [
    "import pandas as pd\n",
    "url = 'https://github.com/mattharrison/datasets/raw/master/data/vehicles.csv.zip'\n",
    "df = pd.read_csv(url)"
   ]
  },
  {
   "cell_type": "code",
   "execution_count": 2,
   "id": "ade1914a-d2a6-4958-bcf4-d69fde468313",
   "metadata": {},
   "outputs": [],
   "source": [
    "#make series\n",
    "city_mpg = df.city08\n",
    "highway_mpg = df.highway08"
   ]
  },
  {
   "cell_type": "code",
   "execution_count": 12,
   "id": "89ef1815-d128-4222-896e-d5f0d6ff7c0a",
   "metadata": {},
   "outputs": [
    {
     "data": {
      "text/plain": [
       "18.37"
      ]
     },
     "execution_count": 12,
     "metadata": {},
     "output_type": "execute_result"
    }
   ],
   "source": [
    "#aggregation mean\n",
    "float(f'{city_mpg.mean():.2f}')"
   ]
  },
  {
   "cell_type": "code",
   "execution_count": 14,
   "id": "b06146d5-770c-4df5-9420-b7c74bb12f1f",
   "metadata": {},
   "outputs": [
    {
     "data": {
      "text/plain": [
       "False"
      ]
     },
     "execution_count": 14,
     "metadata": {},
     "output_type": "execute_result"
    }
   ],
   "source": [
    "#aggregation is monotonic increasing\n",
    "city_mpg.is_monotonic_increasing"
   ]
  },
  {
   "cell_type": "code",
   "execution_count": 11,
   "id": "12d91d39-3b18-47f0-91a4-82d6b1c3809b",
   "metadata": {},
   "outputs": [
    {
     "data": {
      "text/plain": [
       "21.0"
      ]
     },
     "execution_count": 11,
     "metadata": {},
     "output_type": "execute_result"
    }
   ],
   "source": [
    "#aggregation quantile; quantile 8%, [1&, 8%, 99%]\n",
    "city_mpg.quantile(0.8)"
   ]
  },
  {
   "cell_type": "code",
   "execution_count": 13,
   "id": "6780e37b-2b72-4194-b893-091b4a624d83",
   "metadata": {},
   "outputs": [
    {
     "data": {
      "text/plain": [
       "0.10    13.0\n",
       "0.80    21.0\n",
       "0.99    40.0\n",
       "Name: city08, dtype: float64"
      ]
     },
     "execution_count": 13,
     "metadata": {},
     "output_type": "execute_result"
    }
   ],
   "source": [
    "city_mpg.quantile([0.1, 0.8, 0.99])"
   ]
  },
  {
   "cell_type": "code",
   "execution_count": 23,
   "id": "96df260a-50cb-4ee0-934e-8f7144960b13",
   "metadata": {},
   "outputs": [
    {
     "data": {
      "text/plain": [
       "10272"
      ]
     },
     "execution_count": 23,
     "metadata": {},
     "output_type": "execute_result"
    }
   ],
   "source": [
    "#count car with city_mpg > 20\n",
    "#gt means greater, returns bool false = 0 true = 1\n",
    "#NOTE: Chaining can return both single value or series\n",
    "(city_mpg\n",
    "    .gt(20)\n",
    "    .sum())"
   ]
  },
  {
   "cell_type": "code",
   "execution_count": 24,
   "id": "ced93064-7618-488a-a2a6-c5ddcb2f69af",
   "metadata": {},
   "outputs": [
    {
     "data": {
      "text/plain": [
       "0        0.00000\n",
       "1        0.00000\n",
       "2        0.00243\n",
       "3        0.00000\n",
       "4        0.00000\n",
       "          ...   \n",
       "41139    0.00000\n",
       "41140    0.00000\n",
       "41141    0.00000\n",
       "41142    0.00000\n",
       "41143    0.00000\n",
       "Name: city08, Length: 41144, dtype: float64"
      ]
     },
     "execution_count": 24,
     "metadata": {},
     "output_type": "execute_result"
    }
   ],
   "source": [
    "#this one return series\n",
    "(city_mpg\n",
    " .gt(20)\n",
    " .mul(100)\n",
    " .div(len(city_mpg))\n",
    ")"
   ]
  },
  {
   "cell_type": "code",
   "execution_count": 35,
   "id": "174232b2-1a2b-44a1-9de3-f64ccead58de",
   "metadata": {},
   "outputs": [
    {
     "data": {
      "text/plain": [
       "0.25"
      ]
     },
     "execution_count": 35,
     "metadata": {},
     "output_type": "execute_result"
    }
   ],
   "source": [
    "#chaining to count and percent cars\n",
    "#with milage greater than 20\n",
    "\n",
    "float(f'{(city_mpg.gt(20).sum()) / len(city_mpg):.2f}')"
   ]
  },
  {
   "cell_type": "code",
   "execution_count": 37,
   "id": "1715637b-e623-450f-b1fc-d08d7040fb7e",
   "metadata": {},
   "outputs": [
    {
     "data": {
      "text/plain": [
       "2        23\n",
       "5        21\n",
       "6        22\n",
       "7        23\n",
       "8        23\n",
       "         ..\n",
       "41127    26\n",
       "41135    23\n",
       "41136    21\n",
       "41137    24\n",
       "41138    21\n",
       "Name: city08, Length: 10272, dtype: int64"
      ]
     },
     "execution_count": 37,
     "metadata": {},
     "output_type": "execute_result"
    }
   ],
   "source": [
    "#calculate percentage of cars matching this criteria\n",
    "city_mpg[(city_mpg.gt(20))]"
   ]
  },
  {
   "cell_type": "markdown",
   "id": "54ef4734-28db-4c1d-96fc-a45ebe0e2e34",
   "metadata": {},
   "source": [
    "***"
   ]
  },
  {
   "cell_type": "markdown",
   "id": "5af87b84-e6ee-42d4-92c9-0684588c7700",
   "metadata": {},
   "source": [
    "#### .agg and Aggregation Strings"
   ]
  },
  {
   "cell_type": "code",
   "execution_count": 42,
   "id": "4814a195-1e45-40dc-abfb-737b75987069",
   "metadata": {},
   "outputs": [
    {
     "data": {
      "text/plain": [
       "mean               18.369045\n",
       "var                62.503036\n",
       "max               150.000000\n",
       "second_to_last     18.000000\n",
       "Name: city08, dtype: float64"
      ]
     },
     "execution_count": 42,
     "metadata": {},
     "output_type": "execute_result"
    }
   ],
   "source": [
    "#agg method can also using custom function (that return single value obviously)\n",
    "import numpy as np\n",
    "def second_to_last(series):\n",
    "    return series.iloc[-2]\n",
    "city_mpg.agg(['mean', np.var, max, second_to_last])"
   ]
  },
  {
   "cell_type": "code",
   "execution_count": null,
   "id": "81d8abfe-fc48-4d21-a4cf-32a3dc546127",
   "metadata": {},
   "outputs": [],
   "source": []
  }
 ],
 "metadata": {
  "kernelspec": {
   "display_name": "Python 3 (ipykernel)",
   "language": "python",
   "name": "python3"
  },
  "language_info": {
   "codemirror_mode": {
    "name": "ipython",
    "version": 3
   },
   "file_extension": ".py",
   "mimetype": "text/x-python",
   "name": "python",
   "nbconvert_exporter": "python",
   "pygments_lexer": "ipython3",
   "version": "3.9.7"
  }
 },
 "nbformat": 4,
 "nbformat_minor": 5
}
